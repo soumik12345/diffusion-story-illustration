{
 "cells": [
  {
   "cell_type": "markdown",
   "metadata": {},
   "source": [
    "[![Open In Colab](https://colab.research.google.com/assets/colab-badge.svg)](https://colab.research.google.com/github/wandb/diffusion-story-illustration/blob/main/examples/illustrate.ipynb)"
   ]
  },
  {
   "cell_type": "code",
   "execution_count": null,
   "metadata": {},
   "outputs": [],
   "source": [
    "!git clone https://github.com/soumik12345/diffusion-story-illustration\n",
    "%cd diffusion-story-illustration\n",
    "!pip install -e ."
   ]
  },
  {
   "cell_type": "code",
   "execution_count": null,
   "metadata": {},
   "outputs": [],
   "source": [
    "import os\n",
    "from getpass import getpass\n",
    "\n",
    "os.environ[\"OPENAI_API_KEY\"] = getpass(\"Enter you OpenAI API key: \")\n",
    "os.environ[\"FAL_KEY\"] = getpass(\"Enter you FalAI API key: \")"
   ]
  },
  {
   "cell_type": "code",
   "execution_count": null,
   "metadata": {},
   "outputs": [],
   "source": [
    "import weave\n",
    "\n",
    "weave.init(project_name=\"story-illustration\")"
   ]
  },
  {
   "cell_type": "code",
   "execution_count": null,
   "metadata": {},
   "outputs": [],
   "source": [
    "from story_illustrator.models import StoryIllustrator, FalAITextToImageGenerationModel\n",
    "\n",
    "story_illustrator = StoryIllustrator(\n",
    "    openai_model=\"gpt-4\",\n",
    "    text_to_image_model=FalAITextToImageGenerationModel(model_address=\"fal-ai/flux-pro\")\n",
    ")"
   ]
  },
  {
   "cell_type": "code",
   "execution_count": null,
   "metadata": {},
   "outputs": [],
   "source": [
    "with open(\"./data/gift_of_the_magi.txt\", \"r\") as f:\n",
    "    story = f.read()\n",
    "paragraphs = story.split(\"\\n\\n\")\n",
    "story_illustrator.predict(\n",
    "    story=story,\n",
    "    metadata={\n",
    "        \"title\": \"Gift of the Magi\",\n",
    "        \"author\": \"O. Henry\",\n",
    "        \"setting\": \"the year 1905, New York City, United States of America\",\n",
    "    },\n",
    "    paragraphs=paragraphs[:10],\n",
    "    illustration_style=\"surreal style, artstation, digital art, illustration\",\n",
    "    image_size=\"square\",\n",
    ")"
   ]
  },
  {
   "cell_type": "code",
   "execution_count": null,
   "metadata": {},
   "outputs": [],
   "source": []
  }
 ],
 "metadata": {
  "kernelspec": {
   "display_name": "Python 3",
   "language": "python",
   "name": "python3"
  },
  "language_info": {
   "codemirror_mode": {
    "name": "ipython",
    "version": 3
   },
   "file_extension": ".py",
   "mimetype": "text/x-python",
   "name": "python",
   "nbconvert_exporter": "python",
   "pygments_lexer": "ipython3",
   "version": "3.10.12"
  }
 },
 "nbformat": 4,
 "nbformat_minor": 2
}
