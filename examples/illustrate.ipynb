{
 "cells": [
  {
   "cell_type": "markdown",
   "metadata": {},
   "source": [
    "# LLM-assisted Automatic Story Illustrator\n",
    "\n",
    "[![Open In Colab](https://colab.research.google.com/assets/colab-badge.svg)](https://colab.research.google.com/github/soumik12345/diffusion-story-illustration/blob/main/examples/illustrate.ipynb)\n",
    "\n",
    "This notebook demonstrates using the simple LLM-assisted automatic story illustration workflow implemented in [github.com/soumik12345/diffusion-story-illustration](https://github.com/soumik12345/diffusion-story-illustration). To learn more about the details of this workflow, please refer to the W&B report: [Building a GenAI-assisted automatic story illustrator](https://wandb.ai/geekyrakshit/story-illustration/reports/Building-a-GenAI-assisted-Automatic-Story-Illustrator--Vmlldzo5MTYxNTkw)"
   ]
  },
  {
   "cell_type": "markdown",
   "metadata": {},
   "source": [
    "## Installation and Setup\n",
    "\n",
    "We need to first clone the repository and install the required dependencies."
   ]
  },
  {
   "cell_type": "code",
   "execution_count": null,
   "metadata": {},
   "outputs": [],
   "source": [
    "!git clone https://github.com/soumik12345/diffusion-story-illustration\n",
    "%cd diffusion-story-illustration\n",
    "!pip install -e ."
   ]
  },
  {
   "cell_type": "markdown",
   "metadata": {},
   "source": [
    "To proceed with using the workflow, you would need an OpenAI API key. You can [sign up](https://platform.openai.com/signup) on the OpenAI platform to get your own API key.\n",
    "\n",
    "The workflow uses [FalAI](https://fal.ai/) as an image-generation vendor. You can [sign up](https://fal.ai/dashboard/keys) on the FalAI platform to get your own API key. You can also choose to use [HuggingFace Diffusers](https://huggingface.co/docs/diffusers/en/index) if you chose to use your own hardware for for generating the images."
   ]
  },
  {
   "cell_type": "code",
   "execution_count": null,
   "metadata": {},
   "outputs": [],
   "source": [
    "import os\n",
    "from getpass import getpass\n",
    "\n",
    "os.environ[\"OPENAI_API_KEY\"] = getpass(\"Enter you OpenAI API key: \")\n",
    "os.environ[\"FAL_KEY\"] = getpass(\"Enter you FalAI API key: \")"
   ]
  },
  {
   "cell_type": "markdown",
   "metadata": {},
   "source": [
    "We use [Weave](https://weave-docs.wandb.ai/), a lightweight toolkit for tracking and evaluating LLM applications, built by Weights & Biases. The illustration workflow is integrated with weave, and simply calling `weave.init` enables weave to trace the entire application on your weave dashboard."
   ]
  },
  {
   "cell_type": "code",
   "execution_count": null,
   "metadata": {},
   "outputs": [],
   "source": [
    "import weave\n",
    "\n",
    "weave.init(project_name=\"story-illustration\")"
   ]
  },
  {
   "cell_type": "markdown",
   "metadata": {},
   "source": [
    "## Using the Story Illustrator"
   ]
  },
  {
   "cell_type": "code",
   "execution_count": null,
   "metadata": {},
   "outputs": [],
   "source": [
    "from story_illustrator.models import StoryIllustrator, FalAITextToImageGenerationModel\n",
    "\n",
    "story_illustrator = StoryIllustrator(\n",
    "    openai_model=\"gpt-4\",\n",
    "    # Use the `DiffusersTextToImageGenerationModel` to use HuggingFace Diffusers as the\n",
    "    # image generation system using your own hardware.\n",
    "    text_to_image_model=FalAITextToImageGenerationModel(model_address=\"fal-ai/flux-pro\")\n",
    ")"
   ]
  },
  {
   "cell_type": "code",
   "execution_count": null,
   "metadata": {},
   "outputs": [],
   "source": [
    "with open(\"./data/gift_of_the_magi.txt\", \"r\") as f:\n",
    "    story = f.read()\n",
    "paragraphs = story.split(\"\\n\\n\")\n",
    "story_illustrator.predict(\n",
    "    story=story,\n",
    "    metadata={\n",
    "        \"title\": \"Gift of the Magi\",\n",
    "        \"author\": \"O. Henry\",\n",
    "        \"setting\": \"the year 1905, New York City, United States of America\",\n",
    "    },\n",
    "    paragraphs=paragraphs[:10],\n",
    "    illustration_style=\"surreal style, artstation, digital art, illustration\",\n",
    "    image_size=\"square\",\n",
    ")"
   ]
  }
 ],
 "metadata": {
  "kernelspec": {
   "display_name": "Python 3",
   "language": "python",
   "name": "python3"
  },
  "language_info": {
   "codemirror_mode": {
    "name": "ipython",
    "version": 3
   },
   "file_extension": ".py",
   "mimetype": "text/x-python",
   "name": "python",
   "nbconvert_exporter": "python",
   "pygments_lexer": "ipython3",
   "version": "3.10.12"
  }
 },
 "nbformat": 4,
 "nbformat_minor": 2
}
