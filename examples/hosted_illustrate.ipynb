{
  "cells": [
    {
      "cell_type": "markdown",
      "metadata": {
        "id": "dEv-_lpzveRR"
      },
      "source": [
        "# LLM-assisted Automatic Story Illustrator\n",
        "\n",
        "[![Open In Colab](https://colab.research.google.com/assets/colab-badge.svg)](https://colab.research.google.com/github/soumik12345/diffusion-story-illustration/blob/main/examples/hosted_illustrate.ipynb)\n",
        "\n",
        "This notebook demonstrates using the simple LLM-assisted automatic story illustration workflow implemented in [github.com/soumik12345/diffusion-story-illustration](https://github.com/soumik12345/diffusion-story-illustration). To learn more about the details of this workflow, please refer to the W&B report: [Building a GenAI-assisted automatic story illustrator](https://wandb.ai/geekyrakshit/story-illustration/reports/Building-a-GenAI-assisted-Automatic-Story-Illustrator--Vmlldzo5MTYxNTkw)"
      ]
    },
    {
      "cell_type": "code",
      "execution_count": null,
      "metadata": {
        "id": "7mEe_a9UvGlO"
      },
      "outputs": [],
      "source": [
        "import base64\n",
        "import io\n",
        "import requests\n",
        "import os\n",
        "from getpass import getpass\n",
        "from PIL import Image"
      ]
    },
    {
      "cell_type": "markdown",
      "metadata": {
        "id": "L0Mu_qRXwDdU"
      },
      "source": [
        "We are hosting the workflow for you to try out with just a few lines of python code. All you need is a **WandB API Key** which you can get from [wandb.ai/authorize](https://wandb.ai/authorize)."
      ]
    },
    {
      "cell_type": "code",
      "execution_count": null,
      "metadata": {
        "colab": {
          "base_uri": "https://localhost:8080/"
        },
        "id": "93n1uP6xvwnd",
        "outputId": "b3518caa-2881-4a80-dde7-17f17ed21876"
      },
      "outputs": [],
      "source": [
        "URL = \"http://195.242.25.198:8020/illustrate/story\"\n",
        "WANDB_API_KEY = getpass(\"Enter your WandB API Key:\")"
      ]
    },
    {
      "cell_type": "code",
      "execution_count": null,
      "metadata": {
        "id": "Hieds-bcvyak"
      },
      "outputs": [],
      "source": [
        "illustrator_payload = dict(\n",
        "    story=\"Once upon a time, in a land far, far away, there was a little girl named Alice. Alice loved to explore the world around her. One day, she decided to go on an adventure to find the most beautiful flower in the world. Alice traveled through forests, over mountains, and across rivers. She met many interesting creatures along the way, like a friendly dragon and a wise old owl. After a long journey, Alice finally found the most beautiful flower in the world. She picked it and brought it back to her home. From that day on, Alice knew that with courage and determination, she could achieve anything.\",\n",
        "    story_title=\"Alice's Flower Adventure\",\n",
        "    story_author=\"A.A. Milne\",\n",
        "    story_setting=\"A magical land filled with talking animals and enchanted creatures\",\n",
        ")"
      ]
    },
    {
      "cell_type": "markdown",
      "metadata": {
        "id": "ireD8cr9wM-j"
      },
      "source": [
        "When you run this code, you will recieve a [weave](https://weave-docs.wandb.ai/) trace, which you can use to explore the images and the detailed trace of the entire workflow."
      ]
    },
    {
      "cell_type": "code",
      "execution_count": null,
      "metadata": {
        "colab": {
          "base_uri": "https://localhost:8080/",
          "height": 34
        },
        "id": "PysPwj-Kv3W-",
        "outputId": "da2c487c-3bb1-4957-d8a8-998e010c08e8"
      },
      "outputs": [],
      "source": [
        "response = requests.post(\n",
        "    URL, headers={\"wandb-api-key\": WANDB_API_KEY},\n",
        "    json=illustrator_payload\n",
        ").json()\n",
        "print(response[\"weave_trace\"])"
      ]
    },
    {
      "cell_type": "code",
      "execution_count": null,
      "metadata": {
        "colab": {
          "base_uri": "https://localhost:8080/",
          "height": 185
        },
        "id": "SYHpJ4Vtwx9O",
        "outputId": "69bbfac3-83c2-4836-e056-fe335b59c8db"
      },
      "outputs": [],
      "source": [
        "Image.open(io.BytesIO(base64.b64decode(response[\"images\"][\"image_0\"])))"
      ]
    }
  ],
  "metadata": {
    "colab": {
      "provenance": []
    },
    "kernelspec": {
      "display_name": "Python 3",
      "name": "python3"
    },
    "language_info": {
      "name": "python"
    }
  },
  "nbformat": 4,
  "nbformat_minor": 0
}
