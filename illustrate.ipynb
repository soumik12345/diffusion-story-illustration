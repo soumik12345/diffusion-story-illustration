{
 "cells": [
  {
   "cell_type": "markdown",
   "metadata": {},
   "source": [
    "<a href=\"https://colab.research.google.com/github/wandb/diffusion-story-illustration/blob/main/illustrate.ipynb\" target=\"_blank\" rel=\"noopener noreferrer\" class=\"navbar__item navbar__link button button--secondary button--med margin-right--sm notebook-cta-button\"><div><img src=\"https://upload.wikimedia.org/wikipedia/commons/archive/d/d0/20221103151430%21Google_Colaboratory_SVG_Logo.svg\" alt=\"Open In Colab\" height=\"20px\" /><div>Open in Colab</div></div></a>"
   ]
  },
  {
   "cell_type": "code",
   "execution_count": null,
   "metadata": {},
   "outputs": [],
   "source": [
    "!git clone https://github.com/soumik12345/diffusion-story-illustration\n",
    "%cd diffusion-story-illustration\n",
    "!pip install -e ."
   ]
  },
  {
   "cell_type": "code",
   "execution_count": null,
   "metadata": {},
   "outputs": [],
   "source": [
    "import os\n",
    "import getpass\n",
    "\n",
    "api_key = getpass(\"Enter you OpenAI API key: \")\n",
    "os.environ[\"OPENAI_API_KEY\"] = api_key"
   ]
  },
  {
   "cell_type": "code",
   "execution_count": null,
   "metadata": {},
   "outputs": [],
   "source": [
    "import weave\n",
    "\n",
    "weave.init(project_name=\"story-illustration\")"
   ]
  },
  {
   "cell_type": "code",
   "execution_count": null,
   "metadata": {},
   "outputs": [],
   "source": [
    "from story_illustrator.models import StoryIllustrator\n",
    "\n",
    "story_illustrator = StoryIllustrator(\n",
    "    openai_model=\"gpt-4\",\n",
    "    diffusion_model_address=\"black-forest-labs/FLUX.1-dev\",\n",
    "    enable_cpu_offoad=False,\n",
    ")"
   ]
  },
  {
   "cell_type": "code",
   "execution_count": null,
   "metadata": {},
   "outputs": [],
   "source": [
    "with open(\"./data/gift_of_the_magi.txt\", \"r\") as f:\n",
    "    story = f.read()\n",
    "paragraphs = story.split(\"\\n\\n\")\n",
    "story_illustrator.predict(\n",
    "    story=story,\n",
    "    metadata={\n",
    "        \"title\": \"Gift of the Magi\",\n",
    "        \"author\": \"O. Henry\",\n",
    "        \"setting\": \"the year 1905, New York City, United States of America\",\n",
    "    },\n",
    "    paragraphs=paragraphs[:10],\n",
    "    illustration_style=\"surreal style, artstation, digital art, illustration\",\n",
    ")"
   ]
  }
 ],
 "metadata": {
  "language_info": {
   "name": "python"
  }
 },
 "nbformat": 4,
 "nbformat_minor": 2
}
